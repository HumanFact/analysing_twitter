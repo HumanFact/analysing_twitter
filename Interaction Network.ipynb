{
 "cells": [
  {
   "cell_type": "code",
   "execution_count": 1,
   "metadata": {},
   "outputs": [],
   "source": [
    "#Import modules\n",
    "%matplotlib inline\n",
    "\n",
    "#handling data\n",
    "import pandas as pd\n",
    "import numpy as np\n",
    "\n",
    "#import twitter credentials\n",
    "from twitter_credentials import *\n",
    "\n",
    "#handling information\n",
    "import re\n",
    "import json\n",
    "\n",
    "#handling plots\n",
    "import matplotlib.pyplot as plt\n",
    "\n",
    "#for network creation\n",
    "import networkx as nx"
   ]
  },
  {
   "cell_type": "code",
   "execution_count": 204,
   "metadata": {},
   "outputs": [],
   "source": [
    "tweets_df = pd.read_json(\"tweets.txt\", lines=True)"
   ]
  },
  {
   "cell_type": "code",
   "execution_count": 213,
   "metadata": {},
   "outputs": [
    {
     "data": {
      "text/plain": [
       "Index(['contributors', 'coordinates', 'created_at', 'display_text_range',\n",
       "       'entities', 'extended_entities', 'extended_tweet', 'favorite_count',\n",
       "       'favorited', 'filter_level', 'geo', 'id', 'id_str',\n",
       "       'in_reply_to_screen_name', 'in_reply_to_status_id',\n",
       "       'in_reply_to_status_id_str', 'in_reply_to_user_id',\n",
       "       'in_reply_to_user_id_str', 'is_quote_status', 'lang', 'place',\n",
       "       'possibly_sensitive', 'quote_count', 'quoted_status',\n",
       "       'quoted_status_id', 'quoted_status_id_str', 'quoted_status_permalink',\n",
       "       'reply_count', 'retweet_count', 'retweeted', 'retweeted_status',\n",
       "       'source', 'text', 'timestamp_ms', 'truncated', 'user'],\n",
       "      dtype='object')"
      ]
     },
     "execution_count": 213,
     "metadata": {},
     "output_type": "execute_result"
    }
   ],
   "source": [
    "tweets_df.columns"
   ]
  },
  {
   "cell_type": "code",
   "execution_count": 237,
   "metadata": {},
   "outputs": [],
   "source": [
    "tweets_final = pd.DataFrame(columns = [\"created_at\", \"id\", \"in_reply_to_screen_name\", \"in_reply_to_status_id\", \"in_reply_to_user_id\",\n",
    "                                      \"retweeted_id\", \"retweeted_screen_name\", \"quoted_status\", \"quoted_status_id\", \"user_mentions_screen_name\", \"user_mentions_id\", \n",
    "                                       \"text\", \"user_id\", \"screen_name\", \"followers_count\"])"
   ]
  },
  {
   "cell_type": "code",
   "execution_count": 238,
   "metadata": {},
   "outputs": [],
   "source": [
    "equal_columns = [\"created_at\", \"id\", \"text\"]\n",
    "tweets_final[equal_columns] = tweets_df[equal_columns]"
   ]
  },
  {
   "cell_type": "code",
   "execution_count": 239,
   "metadata": {},
   "outputs": [],
   "source": [
    "def get_basics(tweets_final):\n",
    "    tweets_final[\"screen_name\"] = tweets_df[\"user\"].apply(lambda x: x[\"screen_name\"])\n",
    "    tweets_final[\"user_id\"] = tweets_df[\"user\"].apply(lambda x: x[\"id\"])\n",
    "    tweets_final[\"followers_count\"] = tweets_df[\"user\"].apply(lambda x: x[\"followers_count\"])\n",
    "    return tweets_final"
   ]
  },
  {
   "cell_type": "code",
   "execution_count": 273,
   "metadata": {},
   "outputs": [],
   "source": [
    "def get_usermentions(tweets_final):\n",
    "    tweets_final[\"user_mentions_screen_name\"] = tweets_df[\"entities\"].apply(lambda x: x[\"user_mentions\"][0][\"screen_name\"] if x[\"user_mentions\"] else np.nan)\n",
    "    tweets_final[\"user_mentions_id\"] = tweets_df[\"entities\"].apply(lambda x: x[\"user_mentions\"][0][\"id_str\"] if x[\"user_mentions\"] else np.nan)\n",
    "    return tweets_final"
   ]
  },
  {
   "cell_type": "code",
   "execution_count": 274,
   "metadata": {},
   "outputs": [],
   "source": [
    "def get_retweets(tweets_final):\n",
    "    tweets_final[\"retweeted_screen_name\"] = tweets_df[\"retweeted_status\"].apply(lambda x: x[\"user\"][\"screen_name\"] if x is not np.nan else np.nan)\n",
    "    tweets_final[\"retweeted_id\"] = tweets_df[\"retweeted_status\"].apply(lambda x: x[\"user\"][\"id_str\"] if x is not np.nan else np.nan)\n",
    "    return tweets_final"
   ]
  },
  {
   "cell_type": "code",
   "execution_count": 284,
   "metadata": {},
   "outputs": [],
   "source": [
    "def get_in_reply(tweets_final):\n",
    "    tweets_final[\"in_reply_to_screen_name\"] = tweets_df[\"in_reply_to_screen_name\"]\n",
    "    tweets_final[\"in_reply_to_status_id\"] = tweets_df[\"in_reply_to_status_id\"]\n",
    "    tweets_final[\"in_reply_to_user_id\"] = tweets_df[\"in_reply_to_user_id_str\"]\n",
    "    return tweets_final"
   ]
  },
  {
   "cell_type": "code",
   "execution_count": 281,
   "metadata": {},
   "outputs": [],
   "source": [
    "def get_retweet(tweets_final):\n",
    "    tweets_final[\"retweeted_status\"] = tweets_df[\"retweeted_status\"]\n",
    "    tweets_final[\"quoted_status\"] = tweets_df[\"quoted_status\"]\n",
    "    tweets_final[\"quoted_status_id\"] = tweets_df[\"quoted_status_id\"]\n",
    "    return tweets_final"
   ]
  },
  {
   "cell_type": "code",
   "execution_count": 346,
   "metadata": {},
   "outputs": [],
   "source": [
    "def fill_df(tweets_final):\n",
    "    get_basics(tweets_final)\n",
    "    get_usermentions(tweets_final)\n",
    "    get_retweet(tweets_final)\n",
    "    get_in_reply(tweets_final)\n",
    "    get_retweets(tweets_final)\n",
    "    tweets_final.fillna(value=0, inplace=True)\n",
    "    return tweets_final"
   ]
  },
  {
   "cell_type": "code",
   "execution_count": 352,
   "metadata": {},
   "outputs": [],
   "source": [
    "def get_interactions(row):\n",
    "    user = row[\"user_id\"], row[\"screen_name\"]\n",
    "    if user[0] == 0:\n",
    "        return (None, None), []\n",
    "    interactions = set()\n",
    "    \n",
    "    # Add all interactions\n",
    "    interactions.add((row[\"in_reply_to_user_id\"], row[\"in_reply_to_screen_name\"]))\n",
    "    interactions.add((row[\"retweeted_id\"], row[\"retweeted_screen_name\"]))\n",
    "    interactions.add((row[\"user_mentions_id\"], row[\"user_mentions_screen_name\"]))\n",
    "    \n",
    "    # Discard if user id is in interactions\n",
    "    interactions.discard((row[\"user_id\"], row[\"screen_name\"]))\n",
    "    interactions.discard((0.0, 0))\n",
    "    interactions.discard((0.0, 0.0))\n",
    "    # Return user and interactions\n",
    "    return user, interactions"
   ]
  },
  {
   "cell_type": "code",
   "execution_count": 353,
   "metadata": {},
   "outputs": [],
   "source": [
    "tweets_final = fill_df(tweets_final)"
   ]
  },
  {
   "cell_type": "code",
   "execution_count": 354,
   "metadata": {},
   "outputs": [
    {
     "data": {
      "text/html": [
       "<div>\n",
       "<style scoped>\n",
       "    .dataframe tbody tr th:only-of-type {\n",
       "        vertical-align: middle;\n",
       "    }\n",
       "\n",
       "    .dataframe tbody tr th {\n",
       "        vertical-align: top;\n",
       "    }\n",
       "\n",
       "    .dataframe thead th {\n",
       "        text-align: right;\n",
       "    }\n",
       "</style>\n",
       "<table border=\"1\" class=\"dataframe\">\n",
       "  <thead>\n",
       "    <tr style=\"text-align: right;\">\n",
       "      <th></th>\n",
       "      <th>created_at</th>\n",
       "      <th>id</th>\n",
       "      <th>in_reply_to_screen_name</th>\n",
       "      <th>in_reply_to_status_id</th>\n",
       "      <th>in_reply_to_user_id</th>\n",
       "      <th>retweeted_id</th>\n",
       "      <th>retweeted_screen_name</th>\n",
       "      <th>quoted_status</th>\n",
       "      <th>quoted_status_id</th>\n",
       "      <th>user_mentions_screen_name</th>\n",
       "      <th>user_mentions_id</th>\n",
       "      <th>text</th>\n",
       "      <th>user_id</th>\n",
       "      <th>screen_name</th>\n",
       "      <th>followers_count</th>\n",
       "      <th>retweeted_status</th>\n",
       "    </tr>\n",
       "  </thead>\n",
       "  <tbody>\n",
       "    <tr>\n",
       "      <th>0</th>\n",
       "      <td>2019-03-30 20:14:37</td>\n",
       "      <td>1112085741683638272</td>\n",
       "      <td>0</td>\n",
       "      <td>0.000000e+00</td>\n",
       "      <td>0.000000e+00</td>\n",
       "      <td>938373003355635712</td>\n",
       "      <td>4fnan_zainal</td>\n",
       "      <td>{'created_at': 'Wed Mar 27 20:38:37 +0000 2019...</td>\n",
       "      <td>1.111005e+18</td>\n",
       "      <td>4fnan_zainal</td>\n",
       "      <td>938373003355635712</td>\n",
       "      <td>RT @4fnan_zainal: Pls ban kids masa showtime a...</td>\n",
       "      <td>925075656127365120</td>\n",
       "      <td>iRfansyamill</td>\n",
       "      <td>39</td>\n",
       "      <td>{'created_at': 'Sat Mar 30 12:25:59 +0000 2019...</td>\n",
       "    </tr>\n",
       "    <tr>\n",
       "      <th>1</th>\n",
       "      <td>2019-03-30 20:14:39</td>\n",
       "      <td>1112085751267762177</td>\n",
       "      <td>0</td>\n",
       "      <td>0.000000e+00</td>\n",
       "      <td>0.000000e+00</td>\n",
       "      <td>257265441</td>\n",
       "      <td>skipbolden</td>\n",
       "      <td>0</td>\n",
       "      <td>0.000000e+00</td>\n",
       "      <td>skipbolden</td>\n",
       "      <td>257265441</td>\n",
       "      <td>RT @skipbolden: The Avengers (TV Series 1961–1...</td>\n",
       "      <td>812752256214925312</td>\n",
       "      <td>Brianlovesmovi</td>\n",
       "      <td>5906</td>\n",
       "      <td>{'created_at': 'Sat Mar 30 00:44:39 +0000 2019...</td>\n",
       "    </tr>\n",
       "    <tr>\n",
       "      <th>2</th>\n",
       "      <td>2019-03-30 20:14:41</td>\n",
       "      <td>1112085758851059714</td>\n",
       "      <td>0</td>\n",
       "      <td>0.000000e+00</td>\n",
       "      <td>0.000000e+00</td>\n",
       "      <td>0</td>\n",
       "      <td>0</td>\n",
       "      <td>0</td>\n",
       "      <td>0.000000e+00</td>\n",
       "      <td>0</td>\n",
       "      <td>0</td>\n",
       "      <td>Looking forward to the Avengers End Game 😍 #av...</td>\n",
       "      <td>924977392535339010</td>\n",
       "      <td>GadgetSwitched</td>\n",
       "      <td>29</td>\n",
       "      <td>0</td>\n",
       "    </tr>\n",
       "    <tr>\n",
       "      <th>3</th>\n",
       "      <td>2019-03-30 20:14:41</td>\n",
       "      <td>1112085761569054723</td>\n",
       "      <td>0</td>\n",
       "      <td>0.000000e+00</td>\n",
       "      <td>0.000000e+00</td>\n",
       "      <td>254333914</td>\n",
       "      <td>Hypable</td>\n",
       "      <td>0</td>\n",
       "      <td>0.000000e+00</td>\n",
       "      <td>Hypable</td>\n",
       "      <td>254333914</td>\n",
       "      <td>RT @Hypable: 'Avengers: Endgame' posters have ...</td>\n",
       "      <td>1377394638</td>\n",
       "      <td>Christian_sexy7</td>\n",
       "      <td>266</td>\n",
       "      <td>{'created_at': 'Sat Mar 30 17:15:19 +0000 2019...</td>\n",
       "    </tr>\n",
       "    <tr>\n",
       "      <th>4</th>\n",
       "      <td>2019-03-30 20:14:41</td>\n",
       "      <td>1112085762030358530</td>\n",
       "      <td>MTV_iwan</td>\n",
       "      <td>1.112086e+18</td>\n",
       "      <td>8.525729e+17</td>\n",
       "      <td>0</td>\n",
       "      <td>0</td>\n",
       "      <td>0</td>\n",
       "      <td>0.000000e+00</td>\n",
       "      <td>MTV_iwan</td>\n",
       "      <td>852572866512027650</td>\n",
       "      <td>@MTV_iwan @theflairqueenx @BeckyLynchWWE I gue...</td>\n",
       "      <td>1105100693147394048</td>\n",
       "      <td>QuincyWard15</td>\n",
       "      <td>28</td>\n",
       "      <td>0</td>\n",
       "    </tr>\n",
       "  </tbody>\n",
       "</table>\n",
       "</div>"
      ],
      "text/plain": [
       "           created_at                   id in_reply_to_screen_name  \\\n",
       "0 2019-03-30 20:14:37  1112085741683638272                       0   \n",
       "1 2019-03-30 20:14:39  1112085751267762177                       0   \n",
       "2 2019-03-30 20:14:41  1112085758851059714                       0   \n",
       "3 2019-03-30 20:14:41  1112085761569054723                       0   \n",
       "4 2019-03-30 20:14:41  1112085762030358530                MTV_iwan   \n",
       "\n",
       "   in_reply_to_status_id  in_reply_to_user_id        retweeted_id  \\\n",
       "0           0.000000e+00         0.000000e+00  938373003355635712   \n",
       "1           0.000000e+00         0.000000e+00           257265441   \n",
       "2           0.000000e+00         0.000000e+00                   0   \n",
       "3           0.000000e+00         0.000000e+00           254333914   \n",
       "4           1.112086e+18         8.525729e+17                   0   \n",
       "\n",
       "  retweeted_screen_name                                      quoted_status  \\\n",
       "0          4fnan_zainal  {'created_at': 'Wed Mar 27 20:38:37 +0000 2019...   \n",
       "1            skipbolden                                                  0   \n",
       "2                     0                                                  0   \n",
       "3               Hypable                                                  0   \n",
       "4                     0                                                  0   \n",
       "\n",
       "   quoted_status_id user_mentions_screen_name    user_mentions_id  \\\n",
       "0      1.111005e+18              4fnan_zainal  938373003355635712   \n",
       "1      0.000000e+00                skipbolden           257265441   \n",
       "2      0.000000e+00                         0                   0   \n",
       "3      0.000000e+00                   Hypable           254333914   \n",
       "4      0.000000e+00                  MTV_iwan  852572866512027650   \n",
       "\n",
       "                                                text              user_id  \\\n",
       "0  RT @4fnan_zainal: Pls ban kids masa showtime a...   925075656127365120   \n",
       "1  RT @skipbolden: The Avengers (TV Series 1961–1...   812752256214925312   \n",
       "2  Looking forward to the Avengers End Game 😍 #av...   924977392535339010   \n",
       "3  RT @Hypable: 'Avengers: Endgame' posters have ...           1377394638   \n",
       "4  @MTV_iwan @theflairqueenx @BeckyLynchWWE I gue...  1105100693147394048   \n",
       "\n",
       "       screen_name  followers_count  \\\n",
       "0     iRfansyamill               39   \n",
       "1   Brianlovesmovi             5906   \n",
       "2   GadgetSwitched               29   \n",
       "3  Christian_sexy7              266   \n",
       "4     QuincyWard15               28   \n",
       "\n",
       "                                    retweeted_status  \n",
       "0  {'created_at': 'Sat Mar 30 12:25:59 +0000 2019...  \n",
       "1  {'created_at': 'Sat Mar 30 00:44:39 +0000 2019...  \n",
       "2                                                  0  \n",
       "3  {'created_at': 'Sat Mar 30 17:15:19 +0000 2019...  \n",
       "4                                                  0  "
      ]
     },
     "execution_count": 354,
     "metadata": {},
     "output_type": "execute_result"
    }
   ],
   "source": [
    "tweets_final.head()"
   ]
  },
  {
   "cell_type": "code",
   "execution_count": 355,
   "metadata": {},
   "outputs": [],
   "source": [
    "graph = nx.DiGraph()"
   ]
  },
  {
   "cell_type": "code",
   "execution_count": 363,
   "metadata": {},
   "outputs": [],
   "source": [
    "for index, tweet in tweets_final.iterrows():\n",
    "    user, interactions = get_interactions(tweet)\n",
    "    user_id, user_name = user\n",
    "    tweet_id = tweet[\"id\"]\n",
    "    for interaction in interactions:\n",
    "        int_id, int_name = interaction\n",
    "        graph.add_edge(user_id, int_id, tweet_id=tweet_id)\n",
    "        \n",
    "        graph.node[user_id][\"name\"] = user_name\n",
    "        graph.node[int_id][\"name\"] = int_name       "
   ]
  },
  {
   "cell_type": "code",
   "execution_count": 364,
   "metadata": {},
   "outputs": [
    {
     "data": {
      "text/plain": [
       "{('3263526110', 'urvong')}"
      ]
     },
     "execution_count": 364,
     "metadata": {},
     "output_type": "execute_result"
    }
   ],
   "source": [
    "interactions"
   ]
  },
  {
   "cell_type": "code",
   "execution_count": null,
   "metadata": {},
   "outputs": [],
   "source": []
  }
 ],
 "metadata": {
  "kernelspec": {
   "display_name": "Python 3",
   "language": "python",
   "name": "python3"
  },
  "language_info": {
   "codemirror_mode": {
    "name": "ipython",
    "version": 3
   },
   "file_extension": ".py",
   "mimetype": "text/x-python",
   "name": "python",
   "nbconvert_exporter": "python",
   "pygments_lexer": "ipython3",
   "version": "3.6.6"
  }
 },
 "nbformat": 4,
 "nbformat_minor": 2
}

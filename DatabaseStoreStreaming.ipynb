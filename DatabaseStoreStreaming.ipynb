{
 "cells": [
  {
   "cell_type": "code",
   "execution_count": 24,
   "metadata": {},
   "outputs": [],
   "source": [
    "import psycopg2\n",
    "import tweepy \n",
    "\n",
    "#Importing postgres credentials\n",
    "from postgres_credentials import *\n",
    "\n",
    "#Importing twitter credentials\n",
    "from twitter_credentials import *"
   ]
  },
  {
   "cell_type": "code",
   "execution_count": null,
   "metadata": {},
   "outputs": [],
   "source": [
    "#Accesing twitter from the App created in my account\n",
    "def autorize_twitter_api():\n",
    "    \"\"\"\n",
    "    This function gets the consumer key, consumer secret key, access token \n",
    "    and access token secret given by the app created in your Twitter account\n",
    "    and authenticate them with Tweepy.\n",
    "    \"\"\"\n",
    "    #Get access and costumer key and tokens\n",
    "    auth = tweepy.OAuthHandler(consumer_key, consumer_secret)\n",
    "    auth.set_access_token(access_token, access_token_secret)\n",
    "\n",
    "    #Access API and store it in variable api\n",
    "    #Will allows us to read tweets afterwards\n",
    "    api = tweepy.API(auth)\n",
    "    return api"
   ]
  },
  {
   "cell_type": "code",
   "execution_count": null,
   "metadata": {},
   "outputs": [],
   "source": [
    "#Getting the data\n",
    "def twitter_search(api, term_to_search, geocode=None):\n",
    "    \"\"\"\n",
    "    This function searchs the term of choice together with the \n",
    "    desired parameters\n",
    "    \"\"\"\n",
    "    return api.search(term_to_search, geocode, count=200, result_type='recent')"
   ]
  },
  {
   "cell_type": "code",
   "execution_count": null,
   "metadata": {},
   "outputs": [],
   "source": [
    "twitter_information = autorize_twitter_api()\n",
    "tweets_results = twitter_search(twitter_information, 'Superclasico')"
   ]
  },
  {
   "cell_type": "code",
   "execution_count": 20,
   "metadata": {},
   "outputs": [],
   "source": [
    "#Connect to Twitter Database created in Postgres\n",
    "conn_twitter = psycopg2.connect(dbname=dbnametwitter, user=usertwitter, password=passwordtwitter, host=hosttwitter, port=porttwitter)\n",
    "\n",
    "#Create a cursor to perform database operations\n",
    "cursor_twitter = conn_twitter.cursor()\n",
    "\n",
    "#with the cursor now, create a table\n",
    "cursor_twitter.execute(\"CREATE TABLE IF NOT EXISTS tweets (id SERIAL PRIMARY KEY, text string NOT NULL, );\")"
   ]
  },
  {
   "cell_type": "code",
   "execution_count": 21,
   "metadata": {},
   "outputs": [],
   "source": []
  },
  {
   "cell_type": "code",
   "execution_count": 22,
   "metadata": {},
   "outputs": [],
   "source": [
    "conn_twitter.commit()"
   ]
  },
  {
   "cell_type": "code",
   "execution_count": 23,
   "metadata": {},
   "outputs": [],
   "source": [
    "cursor_twitter.close()\n",
    "conn_twitter.close()"
   ]
  },
  {
   "cell_type": "code",
   "execution_count": null,
   "metadata": {},
   "outputs": [],
   "source": []
  }
 ],
 "metadata": {
  "kernelspec": {
   "display_name": "Python 3",
   "language": "python",
   "name": "python3"
  },
  "language_info": {
   "codemirror_mode": {
    "name": "ipython",
    "version": 3
   },
   "file_extension": ".py",
   "mimetype": "text/x-python",
   "name": "python",
   "nbconvert_exporter": "python",
   "pygments_lexer": "ipython3",
   "version": "3.6.6"
  }
 },
 "nbformat": 4,
 "nbformat_minor": 2
}

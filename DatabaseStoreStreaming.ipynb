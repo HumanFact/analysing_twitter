{
 "cells": [
  {
   "cell_type": "code",
   "execution_count": 1,
   "metadata": {},
   "outputs": [],
   "source": [
    "import psycopg2\n",
    "import tweepy \n",
    "\n",
    "#Importing postgres credentials\n",
    "from postgres_credentials import *\n",
    "\n",
    "#Importing twitter credentials\n",
    "from twitter_credentials import *"
   ]
  },
  {
   "cell_type": "code",
   "execution_count": 2,
   "metadata": {},
   "outputs": [],
   "source": [
    "#Accesing twitter from the App created in my account\n",
    "def autorize_twitter_api():\n",
    "    \"\"\"\n",
    "    This function gets the consumer key, consumer secret key, access token \n",
    "    and access token secret given by the app created in your Twitter account\n",
    "    and authenticate them with Tweepy.\n",
    "    \"\"\"\n",
    "    #Get access and costumer key and tokens\n",
    "    auth = tweepy.OAuthHandler(consumer_key, consumer_secret)\n",
    "    auth.set_access_token(access_token, access_token_secret)\n",
    "    \n",
    "    return auth"
   ]
  },
  {
   "cell_type": "code",
   "execution_count": 32,
   "metadata": {},
   "outputs": [],
   "source": [
    "def create_tweets_table(term_to_search):\n",
    "    \"\"\"\n",
    "    This function open a connection with an already created database and creates a new table to\n",
    "    store tweets related to a subject specified by the user\n",
    "    \"\"\"\n",
    "    \n",
    "    #Connect to Twitter Database created in Postgres\n",
    "    conn_twitter = psycopg2.connect(dbname=dbnametwitter, user=usertwitter, password=passwordtwitter, host=hosttwitter, port=porttwitter)\n",
    "\n",
    "    #Create a cursor to perform database operations\n",
    "    cursor_twitter = conn_twitter.cursor()\n",
    "\n",
    "    #with the cursor now, create a table\n",
    "    query_create = \"CREATE TABLE IF NOT EXISTS %s (id SERIAL PRIMARY KEY, text VARCHAR(400) NOT NULL);\" %(\"tweets_\"+term_to_search)\n",
    "    cursor_twitter.execute(query_create)\n",
    "    \n",
    "    #Commit changes\n",
    "    conn_twitter.commit()\n",
    "    \n",
    "    #Close cursor and the connection\n",
    "    cursor_twitter.close()\n",
    "    conn_twitter.close()\n",
    "    return"
   ]
  },
  {
   "cell_type": "code",
   "execution_count": 33,
   "metadata": {},
   "outputs": [],
   "source": [
    "def store_tweets_in_table(term_to_store):\n",
    "    \"\"\"\n",
    "    This function open a connection with an already created database and inserts into corresponding table \n",
    "    tweets related to the selected topic\n",
    "    \"\"\"\n",
    "    \n",
    "    #Connect to Twitter Database created in Postgres\n",
    "    conn_twitter = psycopg2.connect(dbname=dbnametwitter, user=usertwitter, password=passwordtwitter, host=hosttwitter, port=porttwitter)\n",
    "\n",
    "    #Create a cursor to perform database operations\n",
    "    cursor_twitter = conn_twitter.cursor()\n",
    "\n",
    "    #with the cursor now, insert tweet into table\n",
    "    query_insert = \"INSERT INTO %s (id, text) VALUES (%s, %s);\"\n",
    "    cursor_twitter.execute(query_insert, (\"tweets_\"+term_to_store))\n",
    "    \n",
    "    #Commit changes\n",
    "    conn_twitter.commit()\n",
    "    \n",
    "    #Close cursor and the connection\n",
    "    cursor_twitter.close()\n",
    "    conn_twitter.close()\n",
    "    return"
   ]
  },
  {
   "cell_type": "code",
   "execution_count": 20,
   "metadata": {},
   "outputs": [],
   "source": [
    "class MyStreamListener(tweepy.StreamListener):\n",
    "    \n",
    "    \n",
    "    def on_status(self, status):\n",
    "        print(status.text)\n",
    "        \n",
    "    def on_data(self, ):\n",
    "    \n",
    "    "
   ]
  },
  {
   "cell_type": "code",
   "execution_count": 34,
   "metadata": {},
   "outputs": [],
   "source": []
  },
  {
   "cell_type": "code",
   "execution_count": 22,
   "metadata": {},
   "outputs": [],
   "source": [
    "if __name__ == \"__main__\": \n",
    "    api = tweepy.API(wait_on_rate_limit_notify=True)\n",
    "    streamer = tweepy.Stream(auth=autorize_twitter_api(), listener=MyStreamListener(api=api))\n",
    "    streamer.filter(track=[''])"
   ]
  },
  {
   "cell_type": "code",
   "execution_count": 23,
   "metadata": {},
   "outputs": [],
   "source": []
  },
  {
   "cell_type": "code",
   "execution_count": null,
   "metadata": {},
   "outputs": [],
   "source": []
  }
 ],
 "metadata": {
  "kernelspec": {
   "display_name": "Python 3",
   "language": "python",
   "name": "python3"
  },
  "language_info": {
   "codemirror_mode": {
    "name": "ipython",
    "version": 3
   },
   "file_extension": ".py",
   "mimetype": "text/x-python",
   "name": "python",
   "nbconvert_exporter": "python",
   "pygments_lexer": "ipython3",
   "version": "3.6.6"
  }
 },
 "nbformat": 4,
 "nbformat_minor": 2
}

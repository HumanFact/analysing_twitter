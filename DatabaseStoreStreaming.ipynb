{
 "cells": [
  {
   "cell_type": "code",
   "execution_count": 1,
   "metadata": {},
   "outputs": [],
   "source": [
    "import psycopg2\n",
    "import tweepy \n",
    "\n",
    "#Importing postgres credentials\n",
    "from postgres_credentials import *\n",
    "\n",
    "#Importing twitter credentials\n",
    "from twitter_credentials import *"
   ]
  },
  {
   "cell_type": "code",
   "execution_count": 2,
   "metadata": {},
   "outputs": [],
   "source": [
    "#Accesing twitter from the App created in my account\n",
    "def autorize_twitter_api():\n",
    "    \"\"\"\n",
    "    This function gets the consumer key, consumer secret key, access token \n",
    "    and access token secret given by the app created in your Twitter account\n",
    "    and authenticate them with Tweepy.\n",
    "    \"\"\"\n",
    "    #Get access and costumer key and tokens\n",
    "    auth = tweepy.OAuthHandler(consumer_key, consumer_secret)\n",
    "    auth.set_access_token(access_token, access_token_secret)\n",
    "    \n",
    "    return auth"
   ]
  },
  {
   "cell_type": "code",
   "execution_count": 27,
   "metadata": {},
   "outputs": [],
   "source": [
    "def create_tweets_in_table(term_to_search):\n",
    "    \"\"\"\n",
    "    This function open a connection with an already created database and creates a new table to\n",
    "    store tweets related to a subject specified by the user\n",
    "    \"\"\"\n",
    "    \n",
    "    #Connect to Twitter Database created in Postgres\n",
    "    conn_twitter = psycopg2.connect(dbname=dbnametwitter, user=usertwitter, password=passwordtwitter, host=hosttwitter, port=porttwitter)\n",
    "\n",
    "    #Create a cursor to perform database operations\n",
    "    cursor_twitter = conn_twitter.cursor()\n",
    "\n",
    "    #with the cursor now, create a table\n",
    "    query = \"CREATE TABLE IF NOT EXISTS %s (id SERIAL PRIMARY KEY, text VARCHAR(00) NOT NULL);\" %(\"tweets_\"+term_to_search)\n",
    "    cursor_twitter.execute(query)\n",
    "    \n",
    "    #Commit changes\n",
    "    conn_twitter.commit()\n",
    "    \n",
    "    #Close cursor and the connection\n",
    "    cursor_twitter.close()\n",
    "    conn_twitter.close()\n",
    "    return"
   ]
  },
  {
   "cell_type": "code",
   "execution_count": 28,
   "metadata": {},
   "outputs": [
    {
     "ename": "ProgrammingError",
     "evalue": "type \"string\" does not exist\nLINE 1: ...STS tweets_Argentina (id SERIAL PRIMARY KEY, text string NOT...\n                                                             ^\n",
     "output_type": "error",
     "traceback": [
      "\u001b[0;31m---------------------------------------------------------------------------\u001b[0m",
      "\u001b[0;31mProgrammingError\u001b[0m                          Traceback (most recent call last)",
      "\u001b[0;32m<ipython-input-28-adf02a434d98>\u001b[0m in \u001b[0;36m<module>\u001b[0;34m()\u001b[0m\n\u001b[0;32m----> 1\u001b[0;31m \u001b[0ma\u001b[0m \u001b[0;34m=\u001b[0m \u001b[0mcreate_tweets_in_table\u001b[0m\u001b[0;34m(\u001b[0m\u001b[0;34m'Argentina'\u001b[0m\u001b[0;34m)\u001b[0m\u001b[0;34m\u001b[0m\u001b[0m\n\u001b[0m",
      "\u001b[0;32m<ipython-input-27-4e3ec11d2393>\u001b[0m in \u001b[0;36mcreate_tweets_in_table\u001b[0;34m(term_to_search)\u001b[0m\n\u001b[1;32m     13\u001b[0m     \u001b[0;31m#with the cursor now, create a table\u001b[0m\u001b[0;34m\u001b[0m\u001b[0;34m\u001b[0m\u001b[0m\n\u001b[1;32m     14\u001b[0m     \u001b[0mquery\u001b[0m \u001b[0;34m=\u001b[0m \u001b[0;34m\"CREATE TABLE IF NOT EXISTS %s (id SERIAL PRIMARY KEY, text string NOT NULL);\"\u001b[0m \u001b[0;34m%\u001b[0m\u001b[0;34m(\u001b[0m\u001b[0;34m\"tweets_\"\u001b[0m\u001b[0;34m+\u001b[0m\u001b[0mterm_to_search\u001b[0m\u001b[0;34m)\u001b[0m\u001b[0;34m\u001b[0m\u001b[0m\n\u001b[0;32m---> 15\u001b[0;31m     \u001b[0mcursor_twitter\u001b[0m\u001b[0;34m.\u001b[0m\u001b[0mexecute\u001b[0m\u001b[0;34m(\u001b[0m\u001b[0mquery\u001b[0m\u001b[0;34m)\u001b[0m\u001b[0;34m\u001b[0m\u001b[0m\n\u001b[0m\u001b[1;32m     16\u001b[0m \u001b[0;34m\u001b[0m\u001b[0m\n\u001b[1;32m     17\u001b[0m     \u001b[0;31m#Commit changes\u001b[0m\u001b[0;34m\u001b[0m\u001b[0;34m\u001b[0m\u001b[0m\n",
      "\u001b[0;31mProgrammingError\u001b[0m: type \"string\" does not exist\nLINE 1: ...STS tweets_Argentina (id SERIAL PRIMARY KEY, text string NOT...\n                                                             ^\n"
     ]
    }
   ],
   "source": [
    "a = create_tweets_in_table('argentina')"
   ]
  },
  {
   "cell_type": "code",
   "execution_count": 20,
   "metadata": {},
   "outputs": [],
   "source": []
  },
  {
   "cell_type": "code",
   "execution_count": 34,
   "metadata": {},
   "outputs": [],
   "source": [
    "#import pandas as pd\n",
    "#pd.DataFrame(data=[tweets.text for tweets in tweets_results], columns=['Tweets'])"
   ]
  },
  {
   "cell_type": "code",
   "execution_count": 22,
   "metadata": {},
   "outputs": [],
   "source": []
  },
  {
   "cell_type": "code",
   "execution_count": 23,
   "metadata": {},
   "outputs": [],
   "source": []
  },
  {
   "cell_type": "code",
   "execution_count": null,
   "metadata": {},
   "outputs": [],
   "source": [
    "class MyStreamListener(tweepy.StreamListener):\n",
    "    \n",
    "    def on_status(self, status):\n",
    "        print(status.text)"
   ]
  }
 ],
 "metadata": {
  "kernelspec": {
   "display_name": "Python 3",
   "language": "python",
   "name": "python3"
  },
  "language_info": {
   "codemirror_mode": {
    "name": "ipython",
    "version": 3
   },
   "file_extension": ".py",
   "mimetype": "text/x-python",
   "name": "python",
   "nbconvert_exporter": "python",
   "pygments_lexer": "ipython3",
   "version": "3.6.6"
  }
 },
 "nbformat": 4,
 "nbformat_minor": 2
}
